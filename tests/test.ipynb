{
 "cells": [
  {
   "cell_type": "code",
   "execution_count": 13,
   "id": "ab26a7a0",
   "metadata": {},
   "outputs": [
    {
     "name": "stderr",
     "output_type": "stream",
     "text": [
      "2025-07-12 01:11:59,324 - INFO - JobSpy:Indeed - search page: 1 / 1\n",
      "2025-07-12 01:11:59,585 - INFO - JobSpy:Indeed - responded with status code: 403 (submit GitHub issue if this appears to be a bug)\n",
      "2025-07-12 01:11:59,586 - INFO - JobSpy:Indeed - found no jobs on page: 1\n",
      "2025-07-12 01:11:59,587 - INFO - JobSpy:Indeed - finished scraping\n"
     ]
    },
    {
     "name": "stdout",
     "output_type": "stream",
     "text": [
      "Found 0 jobs\n",
      "Empty DataFrame\n",
      "Columns: []\n",
      "Index: []\n"
     ]
    }
   ],
   "source": [
    "import csv\n",
    "from jobspy import scrape_jobs\n",
    "# \"linkedin\", \"zip_recruiter\", \"glassdoor\", \"google\"\n",
    "\n",
    "jobs = scrape_jobs(\n",
    "    site_name=[\"indeed\"],\n",
    "    search_term=\"Python Engineer\",\n",
    "    google_search_term=\"Python Engineer ``\",\n",
    "    #location=\"San Francisco, CA\",\n",
    "    results_wanted=20,\n",
    " \n",
    "    country_indeed='USA',\n",
    "    verbose=2\n",
    "    \n",
    "    # linkedin_fetch_description=True # gets more info such as description, direct job url (slower)\n",
    "    # proxies=[\"208.195.175.46:65095\", \"208.195.175.45:65095\", \"localhost\"],\n",
    ")\n",
    "print(f\"Found {len(jobs)} jobs\")\n",
    "print(jobs.head())\n",
    "jobs.to_csv(\"jobs.csv\", quoting=csv.QUOTE_NONNUMERIC, escapechar=\"\\\\\", index=False) # to_excel"
   ]
  }
 ],
 "metadata": {
  "kernelspec": {
   "display_name": "python-jobspy-ivBNjvMT-py3.12",
   "language": "python",
   "name": "python3"
  },
  "language_info": {
   "codemirror_mode": {
    "name": "ipython",
    "version": 3
   },
   "file_extension": ".py",
   "mimetype": "text/x-python",
   "name": "python",
   "nbconvert_exporter": "python",
   "pygments_lexer": "ipython3",
   "version": "3.12.11"
  }
 },
 "nbformat": 4,
 "nbformat_minor": 5
}
